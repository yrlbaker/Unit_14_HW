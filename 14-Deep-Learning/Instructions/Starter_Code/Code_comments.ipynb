{
 "cells": [
  {
   "cell_type": "markdown",
   "id": "iraqi-hierarchy",
   "metadata": {},
   "source": [
    "# Code Comments - TO DO ASAP"
   ]
  },
  {
   "cell_type": "markdown",
   "id": "canadian-party",
   "metadata": {},
   "source": [
    "# A:\n",
    "# Use 70% of the data for training and the remainder for testing\n",
    "explain what's going on: "
   ]
  },
  {
   "cell_type": "markdown",
   "id": "mysterious-hormone",
   "metadata": {},
   "source": [
    "split = int(.70 * len(x))\n",
    "X_train = X[:split]\n",
    "X_test = X[split:]\n",
    "y_train = y[:split]\n",
    "y_test = y[split:]"
   ]
  },
  {
   "cell_type": "markdown",
   "id": "commercial-engine",
   "metadata": {},
   "source": [
    "## from experimental_fng.ipynb:"
   ]
  },
  {
   "cell_type": "markdown",
   "id": "affected-gallery",
   "metadata": {},
   "source": [
    "Set the random seed for reproducibility\n",
    "Note: This is for the homework solution, but it is good practice to comment this out and run multiple experiments to evaluate your model\n"
   ]
  },
  {
   "cell_type": "code",
   "execution_count": 1,
   "id": "economic-anxiety",
   "metadata": {},
   "outputs": [],
   "source": [
    "from numpy.random import seed\n",
    "seed(1)\n",
    "from tensorflow import random\n",
    "random.set_seed(2)"
   ]
  },
  {
   "cell_type": "markdown",
   "id": "available-order",
   "metadata": {},
   "source": [
    "- changing seed(1) to seed(2), random.set_seed(3)"
   ]
  },
  {
   "cell_type": "markdown",
   "id": "editorial-medium",
   "metadata": {},
   "source": [
    "Predict Closing Prices using a 10 day window of previous fng values\n",
    "Then, experiment with window sizes anywhere from 1 to 10 and see how the model performance changes\n",
    "\n",
    "\n"
   ]
  },
  {
   "cell_type": "markdown",
   "id": "latter-matter",
   "metadata": {},
   "source": [
    "- changing window_size=5"
   ]
  },
  {
   "cell_type": "markdown",
   "id": "corrected-auction",
   "metadata": {},
   "source": [
    "\n"
   ]
  },
  {
   "cell_type": "markdown",
   "id": "choice-breakfast",
   "metadata": {},
   "source": [
    "### from experimental_fng.ipynb:"
   ]
  },
  {
   "cell_type": "markdown",
   "id": "voluntary-thirty",
   "metadata": {},
   "source": [
    "Train the model\n",
    "Use at least 10 epochs\n",
    "Do not shuffle the data\n",
    "Experiment with the batch size, but a smaller batch size is recommended"
   ]
  },
  {
   "cell_type": "markdown",
   "id": "leading-utility",
   "metadata": {},
   "source": [
    "model.fit(X_train, y_train, epochs=10, shuffle=False, batch_size=5, verbose=1)"
   ]
  },
  {
   "cell_type": "markdown",
   "id": "guided-negotiation",
   "metadata": {},
   "source": [
    "compare the results here."
   ]
  },
  {
   "cell_type": "markdown",
   "id": "adjustable-olive",
   "metadata": {},
   "source": [
    "note: It took many seconds more to start at batch_size=2 than 1"
   ]
  },
  {
   "cell_type": "code",
   "execution_count": null,
   "id": "enclosed-antenna",
   "metadata": {},
   "outputs": [],
   "source": []
  }
 ],
 "metadata": {
  "kernelspec": {
   "display_name": "Python 3",
   "language": "python",
   "name": "python3"
  },
  "language_info": {
   "codemirror_mode": {
    "name": "ipython",
    "version": 3
   },
   "file_extension": ".py",
   "mimetype": "text/x-python",
   "name": "python",
   "nbconvert_exporter": "python",
   "pygments_lexer": "ipython3",
   "version": "3.8.5"
  }
 },
 "nbformat": 4,
 "nbformat_minor": 5
}
