{
 "cells": [
  {
   "cell_type": "markdown",
   "id": "fourth-explorer",
   "metadata": {},
   "source": [
    "# Code Comments - TO DO ASAP"
   ]
  },
  {
   "cell_type": "markdown",
   "id": "central-restriction",
   "metadata": {},
   "source": [
    "# A:\n",
    "# Use 70% of the data for training and the remainder for testing\n",
    "explain what's going on: "
   ]
  },
  {
   "cell_type": "markdown",
   "id": "aerial-highway",
   "metadata": {},
   "source": [
    "split = int(.70 * len(x))\n",
    "X_train = X[:split]\n",
    "X_test = X[split:]\n",
    "y_train = y[:split]\n",
    "y_test = y[split:]"
   ]
  },
  {
   "cell_type": "markdown",
   "id": "horizontal-closer",
   "metadata": {},
   "source": [
    "## from experimental_fng.ipynb:"
   ]
  },
  {
   "cell_type": "markdown",
   "id": "ethical-marshall",
   "metadata": {},
   "source": [
    "Set the random seed for reproducibility\n",
    "Note: This is for the homework solution, but it is good practice to comment this out and run multiple experiments to evaluate your model\n"
   ]
  },
  {
   "cell_type": "code",
   "execution_count": 1,
   "id": "enormous-antarctica",
   "metadata": {},
   "outputs": [],
   "source": [
    "from numpy.random import seed\n",
    "seed(1)\n",
    "from tensorflow import random\n",
    "random.set_seed(2)"
   ]
  },
  {
   "cell_type": "markdown",
   "id": "disabled-bulgarian",
   "metadata": {},
   "source": [
    "- changing seed(1) to seed(2), random.set_seed(3)"
   ]
  },
  {
   "cell_type": "markdown",
   "id": "nasty-irrigation",
   "metadata": {},
   "source": [
    "Predict Closing Prices using a 10 day window of previous fng values\n",
    "Then, experiment with window sizes anywhere from 1 to 10 and see how the model performance changes\n",
    "\n",
    "\n"
   ]
  },
  {
   "cell_type": "markdown",
   "id": "operational-blowing",
   "metadata": {},
   "source": [
    "- changing window_size=5"
   ]
  },
  {
   "cell_type": "markdown",
   "id": "square-cabinet",
   "metadata": {},
   "source": [
    "\n"
   ]
  },
  {
   "cell_type": "markdown",
   "id": "legislative-annex",
   "metadata": {},
   "source": [
    "### from experimental_fng.ipynb:"
   ]
  },
  {
   "cell_type": "markdown",
   "id": "younger-manual",
   "metadata": {},
   "source": [
    "Train the model\n",
    "Use at least 10 epochs\n",
    "Do not shuffle the data\n",
    "Experiment with the batch size, but a smaller batch size is recommended"
   ]
  },
  {
   "cell_type": "code",
   "execution_count": null,
   "id": "enhanced-christianity",
   "metadata": {},
   "outputs": [],
   "source": [
    "model.fit(X_train, y_train, epochs=10, shuffle=False, batch_size=5, verbose=1)"
   ]
  }
 ],
 "metadata": {
  "kernelspec": {
   "display_name": "Python 3",
   "language": "python",
   "name": "python3"
  },
  "language_info": {
   "codemirror_mode": {
    "name": "ipython",
    "version": 3
   },
   "file_extension": ".py",
   "mimetype": "text/x-python",
   "name": "python",
   "nbconvert_exporter": "python",
   "pygments_lexer": "ipython3",
   "version": "3.8.5"
  }
 },
 "nbformat": 4,
 "nbformat_minor": 5
}
