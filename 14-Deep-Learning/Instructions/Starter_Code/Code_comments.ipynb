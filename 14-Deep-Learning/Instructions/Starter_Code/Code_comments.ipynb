{
 "cells": [
  {
   "cell_type": "markdown",
   "id": "worthy-kitty",
   "metadata": {},
   "source": [
    "# Code Comments"
   ]
  },
  {
   "cell_type": "markdown",
   "id": "exterior-talent",
   "metadata": {},
   "source": [
    "# A:\n",
    "# Use 70% of the data for training and the remainder for testing\n",
    "explain what's going on: "
   ]
  },
  {
   "cell_type": "markdown",
   "id": "ordinary-accounting",
   "metadata": {},
   "source": [
    "split = int(.70 * len(x))\n",
    "X_train = X[:split]\n",
    "X_test = X[split:]\n",
    "y_train = y[:split]\n",
    "y_test = y[split:]"
   ]
  },
  {
   "cell_type": "code",
   "execution_count": null,
   "id": "strange-employer",
   "metadata": {},
   "outputs": [],
   "source": []
  }
 ],
 "metadata": {
  "kernelspec": {
   "display_name": "Python 3",
   "language": "python",
   "name": "python3"
  },
  "language_info": {
   "codemirror_mode": {
    "name": "ipython",
    "version": 3
   },
   "file_extension": ".py",
   "mimetype": "text/x-python",
   "name": "python",
   "nbconvert_exporter": "python",
   "pygments_lexer": "ipython3",
   "version": "3.8.5"
  }
 },
 "nbformat": 4,
 "nbformat_minor": 5
}
